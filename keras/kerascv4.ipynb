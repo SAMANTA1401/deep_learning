{
 "cells": [
  {
   "cell_type": "code",
   "execution_count": null,
   "metadata": {},
   "outputs": [],
   "source": [
    "import keras\n",
    "from keras import ops\n",
    "\n",
    "import keras_cv\n",
    "import numpy as np\n",
    "\n",
    "from keras_cv.datasets.pascal_voc.segmentation import load as load_voc"
   ]
  },
  {
   "cell_type": "code",
   "execution_count": null,
   "metadata": {},
   "outputs": [],
   "source": [
    "model = keras_cv.models.DeepLabV3Plus.from_preset(\n",
    "    \"deeplab_v3_plus_resnet50_pascalvoc\",\n",
    "    num_classes=21,\n",
    "    input_shape=[512, 512, 3],\n",
    ")"
   ]
  },
  {
   "cell_type": "code",
   "execution_count": null,
   "metadata": {},
   "outputs": [],
   "source": [
    "filepath = keras.utils.get_file(origin=\"https://i.imgur.com/gCNcJJI.jpg\")\n",
    "image = keras.utils.load_img(filepath)"
   ]
  },
  {
   "cell_type": "code",
   "execution_count": null,
   "metadata": {},
   "outputs": [],
   "source": [
    "resize = keras_cv.layers.Resizing(height=512, width=512)\n",
    "image = resize(image)"
   ]
  },
  {
   "cell_type": "code",
   "execution_count": null,
   "metadata": {},
   "outputs": [],
   "source": [
    "image = keras.ops.expand_dims(np.array(image), axis=0)"
   ]
  },
  {
   "cell_type": "code",
   "execution_count": null,
   "metadata": {},
   "outputs": [],
   "source": [
    "preds = ops.expand_dims(ops.argmax(model(image), axis=-1), axis=-1)"
   ]
  },
  {
   "cell_type": "code",
   "execution_count": null,
   "metadata": {},
   "outputs": [],
   "source": [
    "keras_cv.visualization.plot_segmentation_mask_gallery(\n",
    "    image,\n",
    "    value_range=(0, 255),\n",
    "    num_classes=1,\n",
    "    y_true=None,\n",
    "    y_pred=preds,\n",
    "    scale=3,\n",
    "    rows=1,\n",
    "    cols=1,\n",
    ")"
   ]
  },
  {
   "cell_type": "code",
   "execution_count": null,
   "metadata": {},
   "outputs": [],
   "source": [
    "train_ds = load_voc(split=\"sbd_train\")\n",
    "eval_ds = load_voc(split=\"sbd_eval\")"
   ]
  },
  {
   "cell_type": "code",
   "execution_count": null,
   "metadata": {},
   "outputs": [],
   "source": [
    "train_ds = train_ds.map(keras_cv.layers.RandomFlip())\n",
    "batch = train_ds.take(1).get_single_element()"
   ]
  },
  {
   "cell_type": "code",
   "execution_count": null,
   "metadata": {},
   "outputs": [],
   "source": [
    "keras_cv.visualization.plot_segmentation_mask_gallery(\n",
    "    batch[\"images\"],\n",
    "    value_range=(0, 255),\n",
    "    num_classes=21,\n",
    "    y_true=batch[\"segmentation_masks\"],\n",
    "    scale=3,\n",
    "    rows=2,\n",
    "    cols=2,\n",
    ")"
   ]
  },
  {
   "cell_type": "markdown",
   "metadata": {},
   "source": [
    "segment anything"
   ]
  },
  {
   "cell_type": "code",
   "execution_count": null,
   "metadata": {},
   "outputs": [],
   "source": [
    "model = keras_cv.models.SegmentAnythingModel.from_preset(\"sam_huge_sa1b\")"
   ]
  },
  {
   "cell_type": "code",
   "execution_count": null,
   "metadata": {},
   "outputs": [],
   "source": [
    "# Load our image\n",
    "image = np.array(keras.utils.load_img(\"truck.jpg\"))\n",
    "image = inference_resizing(image)\n"
   ]
  },
  {
   "cell_type": "code",
   "execution_count": null,
   "metadata": {},
   "outputs": [],
   "source": [
    "plt.figure(figsize=(10, 10))\n",
    "plt.imshow(ops.convert_to_numpy(image) / 255.0)\n",
    "plt.axis(\"on\")\n",
    "plt.show()"
   ]
  },
  {
   "cell_type": "code",
   "execution_count": null,
   "metadata": {},
   "outputs": [],
   "source": [
    "# Let's try to segment the truck's window pane at coordinates (284, 213).\n",
    "# Define the input point prompt\n",
    "input_point = np.array([[284, 213.5]])\n",
    "input_label = np.array([1])"
   ]
  },
  {
   "cell_type": "code",
   "execution_count": null,
   "metadata": {},
   "outputs": [],
   "source": [
    "plt.figure(figsize=(10, 10))\n",
    "plt.imshow(ops.convert_to_numpy(image) / 255.0)\n",
    "show_points(input_point, input_label, plt.gca())\n",
    "plt.axis(\"on\")\n",
    "plt.show()"
   ]
  },
  {
   "cell_type": "code",
   "execution_count": null,
   "metadata": {},
   "outputs": [],
   "source": [
    "outputs = model.predict(\n",
    "    {\n",
    "        \"images\": image[np.newaxis, ...],\n",
    "        \"points\": np.concatenate(\n",
    "            [input_point[np.newaxis, ...], np.zeros((1, 1, 2))], axis=1\n",
    "        ),\n",
    "        \"labels\": np.concatenate(\n",
    "            [input_label[np.newaxis, ...], np.full((1, 1), fill_value=-1)], axis=1\n",
    "        ),\n",
    "    }\n",
    ")"
   ]
  },
  {
   "cell_type": "code",
   "execution_count": null,
   "metadata": {},
   "outputs": [],
   "source": [
    "# Resize the mask to our image shape i.e. (1024, 1024)\n",
    "mask = inference_resizing(outputs[\"masks\"][0][0][..., None], pad=False)[..., 0]"
   ]
  },
  {
   "cell_type": "code",
   "execution_count": null,
   "metadata": {},
   "outputs": [],
   "source": [
    "# Convert the logits to a numpy array\n",
    "# and convert the logits to a boolean mask\n",
    "mask = ops.convert_to_numpy(mask) > 0.0\n",
    "iou_score = ops.convert_to_numpy(outputs[\"iou_pred\"][0][0])"
   ]
  },
  {
   "cell_type": "code",
   "execution_count": null,
   "metadata": {},
   "outputs": [],
   "source": [
    "plt.figure(figsize=(10, 10))\n",
    "plt.imshow(ops.convert_to_numpy(image) / 255.0)\n",
    "show_mask(mask, plt.gca())\n",
    "show_points(input_point, input_label, plt.gca())\n",
    "plt.title(f\"IoU Score: {iou_score:.3f}\", fontsize=18)\n",
    "plt.axis(\"off\")\n",
    "plt.show()"
   ]
  }
 ],
 "metadata": {
  "kernelspec": {
   "display_name": "Python 3",
   "language": "python",
   "name": "python3"
  },
  "language_info": {
   "name": "python",
   "version": "3.11.0"
  }
 },
 "nbformat": 4,
 "nbformat_minor": 2
}
