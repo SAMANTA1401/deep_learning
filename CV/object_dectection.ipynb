{
 "cells": [
  {
   "cell_type": "markdown",
   "metadata": {},
   "source": [
    "The model\n",
    "\n",
    "An Object Detection is a combination of two tasks:\n",
    "\n",
    "regression of the bound-box coordinates\n",
    "classification of the object label\n",
    "This means that our model has two outputs: namely the object label and the object bound box. Therefore, the model must combine the tasks of classification and regression.\n",
    "\n",
    "The Classifier\n",
    "\n",
    "Let’s forget the bound box for a while and begin with a simpler classifier:"
   ]
  },
  {
   "cell_type": "code",
   "execution_count": null,
   "metadata": {},
   "outputs": [],
   "source": []
  }
 ],
 "metadata": {
  "kernelspec": {
   "display_name": "Python 3",
   "language": "python",
   "name": "python3"
  },
  "language_info": {
   "codemirror_mode": {
    "name": "ipython",
    "version": 3
   },
   "file_extension": ".py",
   "mimetype": "text/x-python",
   "name": "python",
   "nbconvert_exporter": "python",
   "pygments_lexer": "ipython3",
   "version": "3.11.0"
  }
 },
 "nbformat": 4,
 "nbformat_minor": 2
}
